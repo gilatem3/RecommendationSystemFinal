{
 "cells": [
  {
   "cell_type": "code",
   "execution_count": 31,
   "metadata": {},
   "outputs": [],
   "source": [
    "import pandas as pd"
   ]
  },
  {
   "cell_type": "code",
   "execution_count": 32,
   "metadata": {},
   "outputs": [],
   "source": [
    "data = pd.read_csv('c://users/gilat/documents/mbs fall 2018/big data algorithms/phase4_first1000.csv')"
   ]
  },
  {
   "cell_type": "code",
   "execution_count": 33,
   "metadata": {},
   "outputs": [
    {
     "data": {
      "text/html": [
       "<div>\n",
       "<style>\n",
       "    .dataframe thead tr:only-child th {\n",
       "        text-align: right;\n",
       "    }\n",
       "\n",
       "    .dataframe thead th {\n",
       "        text-align: left;\n",
       "    }\n",
       "\n",
       "    .dataframe tbody tr th {\n",
       "        vertical-align: top;\n",
       "    }\n",
       "</style>\n",
       "<table border=\"1\" class=\"dataframe\">\n",
       "  <thead>\n",
       "    <tr style=\"text-align: right;\">\n",
       "      <th></th>\n",
       "      <th>query_id</th>\n",
       "      <th>event_ids</th>\n",
       "      <th>index</th>\n",
       "    </tr>\n",
       "  </thead>\n",
       "  <tbody>\n",
       "    <tr>\n",
       "      <th>0</th>\n",
       "      <td>16a82bf8-516a-11e7-a10b-22000bb0aa3e</td>\n",
       "      <td>e8671da2-516a-11e7-a10b-22000bb0aa3e</td>\n",
       "      <td>45777</td>\n",
       "    </tr>\n",
       "    <tr>\n",
       "      <th>1</th>\n",
       "      <td>16a82bf8-516a-11e7-a10b-22000bb0aa3e</td>\n",
       "      <td>9f212d5c-6a6b-11e8-bf77-22000b97191e</td>\n",
       "      <td>57306</td>\n",
       "    </tr>\n",
       "    <tr>\n",
       "      <th>2</th>\n",
       "      <td>16a82bf8-516a-11e7-a10b-22000bb0aa3e</td>\n",
       "      <td>d12e236c-b9f5-11e7-8a80-22000adab2b7</td>\n",
       "      <td>23905</td>\n",
       "    </tr>\n",
       "    <tr>\n",
       "      <th>3</th>\n",
       "      <td>16a82bf8-516a-11e7-a10b-22000bb0aa3e</td>\n",
       "      <td>d6563630-6c08-11e7-923e-22000a6dd2f6</td>\n",
       "      <td>11862</td>\n",
       "    </tr>\n",
       "    <tr>\n",
       "      <th>4</th>\n",
       "      <td>16a82bf8-516a-11e7-a10b-22000bb0aa3e</td>\n",
       "      <td>e8faf14a-ba91-11e7-9818-22000b2d0131</td>\n",
       "      <td>50590</td>\n",
       "    </tr>\n",
       "  </tbody>\n",
       "</table>\n",
       "</div>"
      ],
      "text/plain": [
       "                               query_id                             event_ids  \\\n",
       "0  16a82bf8-516a-11e7-a10b-22000bb0aa3e  e8671da2-516a-11e7-a10b-22000bb0aa3e   \n",
       "1  16a82bf8-516a-11e7-a10b-22000bb0aa3e  9f212d5c-6a6b-11e8-bf77-22000b97191e   \n",
       "2  16a82bf8-516a-11e7-a10b-22000bb0aa3e  d12e236c-b9f5-11e7-8a80-22000adab2b7   \n",
       "3  16a82bf8-516a-11e7-a10b-22000bb0aa3e  d6563630-6c08-11e7-923e-22000a6dd2f6   \n",
       "4  16a82bf8-516a-11e7-a10b-22000bb0aa3e  e8faf14a-ba91-11e7-9818-22000b2d0131   \n",
       "\n",
       "   index  \n",
       "0  45777  \n",
       "1  57306  \n",
       "2  23905  \n",
       "3  11862  \n",
       "4  50590  "
      ]
     },
     "execution_count": 33,
     "metadata": {},
     "output_type": "execute_result"
    }
   ],
   "source": [
    "data.head()"
   ]
  },
  {
   "cell_type": "code",
   "execution_count": 34,
   "metadata": {},
   "outputs": [],
   "source": [
    "# Create dictionary with query_id as key and value is list of its associated event_ids\n",
    "data_dict = {}\n",
    "for i in range(len(data)):\n",
    "    if data['query_id'][i] not in data_dict.keys():\n",
    "        data_dict[data['query_id'][i]] = []\n",
    "        data_dict[data['query_id'][i]].append(data['event_ids'][i])\n",
    "    else:\n",
    "        data_dict[data['query_id'][i]].append(data['event_ids'][i])"
   ]
  },
  {
   "cell_type": "code",
   "execution_count": 35,
   "metadata": {},
   "outputs": [],
   "source": [
    "# Double check\n",
    "for i in range(len(data)):\n",
    "    if data['query_id'][i] in data['event_ids']:\n",
    "        print(True)"
   ]
  },
  {
   "cell_type": "code",
   "execution_count": 36,
   "metadata": {},
   "outputs": [],
   "source": [
    "# Create dataframe fromt his dictionary\n",
    "recs = pd.DataFrame(list(data_dict.items()), columns=['event_id', 'recommendations'])"
   ]
  },
  {
   "cell_type": "code",
   "execution_count": 37,
   "metadata": {},
   "outputs": [],
   "source": [
    "data = data.rename(columns={'event_ids':'event_id'})"
   ]
  },
  {
   "cell_type": "code",
   "execution_count": 38,
   "metadata": {},
   "outputs": [],
   "source": [
    "# Combine data above with the extra event_ids that don't have an associated recommendation.\n",
    "all_data = pd.concat([recs,data])\n",
    "all_data = all_data.drop(['query_id','index'],axis=1)"
   ]
  },
  {
   "cell_type": "code",
   "execution_count": 39,
   "metadata": {},
   "outputs": [
    {
     "data": {
      "text/plain": [
       "list"
      ]
     },
     "execution_count": 39,
     "metadata": {},
     "output_type": "execute_result"
    }
   ],
   "source": [
    "all_data.index = range(len(all_data))"
   ]
  },
  {
   "cell_type": "code",
   "execution_count": 40,
   "metadata": {},
   "outputs": [],
   "source": [
    "#all_data.to_csv('c://users/gilat/documents/mbs fall 2018/big data algorithms/GMphase4_first1000.csv')"
   ]
  },
  {
   "cell_type": "code",
   "execution_count": null,
   "metadata": {},
   "outputs": [],
   "source": []
  }
 ],
 "metadata": {
  "kernelspec": {
   "display_name": "Python 3",
   "language": "python",
   "name": "python3"
  },
  "language_info": {
   "codemirror_mode": {
    "name": "ipython",
    "version": 3
   },
   "file_extension": ".py",
   "mimetype": "text/x-python",
   "name": "python",
   "nbconvert_exporter": "python",
   "pygments_lexer": "ipython3",
   "version": "3.6.1"
  }
 },
 "nbformat": 4,
 "nbformat_minor": 2
}
