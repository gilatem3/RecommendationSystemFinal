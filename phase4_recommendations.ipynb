{
 "cells": [
  {
   "cell_type": "code",
   "execution_count": 258,
   "metadata": {},
   "outputs": [],
   "source": [
    "import numpy as np\n",
    "import pandas as pd \n",
    "import seaborn as sns\n",
    "import matplotlib.pyplot as plt\n",
    "from sklearn.model_selection import train_test_split\n",
    "import warnings\n",
    "from pandas import Series\n",
    "warnings.filterwarnings('ignore')\n",
    "%matplotlib inline"
   ]
  },
  {
   "cell_type": "code",
   "execution_count": 259,
   "metadata": {},
   "outputs": [],
   "source": [
    "# Import the data\n",
    "import json\n",
    "dma = pd.read_csv(\"C:/AmyLe/Users/user/Desktop/Rutgers/DMA-zip.csv\", encoding=\"iso-8859-1\")\n",
    "events = json.load(open('C:/AmyLe/Users/user/Desktop/Rutgers/events.json', 'r'))\n",
    "#Convert list \"event\" to dataframe\n",
    "events_df = pd.DataFrame(events)"
   ]
  },
  {
   "cell_type": "code",
   "execution_count": 260,
   "metadata": {},
   "outputs": [
    {
     "name": "stdout",
     "output_type": "stream",
     "text": [
      "<class 'pandas.core.frame.DataFrame'>\n",
      "RangeIndex: 41535 entries, 0 to 41534\n",
      "Data columns (total 6 columns):\n",
      "FIPS        41535 non-null int64\n",
      "COUNTY      41535 non-null object\n",
      "ST          41535 non-null object\n",
      "DMA CODE    41535 non-null int64\n",
      "DMA NAME    41535 non-null object\n",
      "ZIPCODE     41535 non-null int64\n",
      "dtypes: int64(3), object(3)\n",
      "memory usage: 1.9+ MB\n"
     ]
    }
   ],
   "source": [
    "# First look at the dma data\n",
    "dma.info()\n",
    "dma['ZIPCODE'] = dma['ZIPCODE'].apply(str)\n",
    "dma['DMA CODE'] = dma['DMA CODE'].apply(str)"
   ]
  },
  {
   "cell_type": "code",
   "execution_count": 261,
   "metadata": {},
   "outputs": [
    {
     "data": {
      "text/plain": [
       "Index(['FIPS', 'COUNTY', 'ST', 'DMA CODE', 'DMA NAME', 'ZIPCODE'], dtype='object')"
      ]
     },
     "execution_count": 261,
     "metadata": {},
     "output_type": "execute_result"
    }
   ],
   "source": [
    "dma.columns"
   ]
  },
  {
   "cell_type": "code",
   "execution_count": 262,
   "metadata": {},
   "outputs": [
    {
     "data": {
      "text/html": [
       "<div>\n",
       "<style scoped>\n",
       "    .dataframe tbody tr th:only-of-type {\n",
       "        vertical-align: middle;\n",
       "    }\n",
       "\n",
       "    .dataframe tbody tr th {\n",
       "        vertical-align: top;\n",
       "    }\n",
       "\n",
       "    .dataframe thead th {\n",
       "        text-align: right;\n",
       "    }\n",
       "</style>\n",
       "<table border=\"1\" class=\"dataframe\">\n",
       "  <thead>\n",
       "    <tr style=\"text-align: right;\">\n",
       "      <th></th>\n",
       "      <th>FIPS</th>\n",
       "      <th>COUNTY</th>\n",
       "      <th>ST</th>\n",
       "      <th>DMA CODE</th>\n",
       "      <th>DMA NAME</th>\n",
       "      <th>ZIPCODE</th>\n",
       "    </tr>\n",
       "  </thead>\n",
       "  <tbody>\n",
       "    <tr>\n",
       "      <th>0</th>\n",
       "      <td>1001</td>\n",
       "      <td>Autauga</td>\n",
       "      <td>AL</td>\n",
       "      <td>698</td>\n",
       "      <td>MONTGOMERY</td>\n",
       "      <td>36003</td>\n",
       "    </tr>\n",
       "    <tr>\n",
       "      <th>1</th>\n",
       "      <td>1001</td>\n",
       "      <td>Autauga</td>\n",
       "      <td>AL</td>\n",
       "      <td>698</td>\n",
       "      <td>MONTGOMERY</td>\n",
       "      <td>36006</td>\n",
       "    </tr>\n",
       "    <tr>\n",
       "      <th>2</th>\n",
       "      <td>1001</td>\n",
       "      <td>Autauga</td>\n",
       "      <td>AL</td>\n",
       "      <td>698</td>\n",
       "      <td>MONTGOMERY</td>\n",
       "      <td>36008</td>\n",
       "    </tr>\n",
       "    <tr>\n",
       "      <th>3</th>\n",
       "      <td>1001</td>\n",
       "      <td>Autauga</td>\n",
       "      <td>AL</td>\n",
       "      <td>698</td>\n",
       "      <td>MONTGOMERY</td>\n",
       "      <td>36051</td>\n",
       "    </tr>\n",
       "    <tr>\n",
       "      <th>4</th>\n",
       "      <td>1001</td>\n",
       "      <td>Autauga</td>\n",
       "      <td>AL</td>\n",
       "      <td>698</td>\n",
       "      <td>MONTGOMERY</td>\n",
       "      <td>36066</td>\n",
       "    </tr>\n",
       "    <tr>\n",
       "      <th>5</th>\n",
       "      <td>1001</td>\n",
       "      <td>Autauga</td>\n",
       "      <td>AL</td>\n",
       "      <td>698</td>\n",
       "      <td>MONTGOMERY</td>\n",
       "      <td>36067</td>\n",
       "    </tr>\n",
       "    <tr>\n",
       "      <th>6</th>\n",
       "      <td>1001</td>\n",
       "      <td>Autauga</td>\n",
       "      <td>AL</td>\n",
       "      <td>698</td>\n",
       "      <td>MONTGOMERY</td>\n",
       "      <td>36068</td>\n",
       "    </tr>\n",
       "    <tr>\n",
       "      <th>7</th>\n",
       "      <td>1001</td>\n",
       "      <td>Autauga</td>\n",
       "      <td>AL</td>\n",
       "      <td>698</td>\n",
       "      <td>MONTGOMERY</td>\n",
       "      <td>36749</td>\n",
       "    </tr>\n",
       "    <tr>\n",
       "      <th>8</th>\n",
       "      <td>1003</td>\n",
       "      <td>Baldwin</td>\n",
       "      <td>AL</td>\n",
       "      <td>686</td>\n",
       "      <td>MOBILE-PENSACOLA</td>\n",
       "      <td>36507</td>\n",
       "    </tr>\n",
       "    <tr>\n",
       "      <th>9</th>\n",
       "      <td>1003</td>\n",
       "      <td>Baldwin</td>\n",
       "      <td>AL</td>\n",
       "      <td>686</td>\n",
       "      <td>MOBILE-PENSACOLA</td>\n",
       "      <td>36511</td>\n",
       "    </tr>\n",
       "  </tbody>\n",
       "</table>\n",
       "</div>"
      ],
      "text/plain": [
       "   FIPS   COUNTY  ST DMA CODE          DMA NAME ZIPCODE\n",
       "0  1001  Autauga  AL  698      MONTGOMERY        36003 \n",
       "1  1001  Autauga  AL  698      MONTGOMERY        36006 \n",
       "2  1001  Autauga  AL  698      MONTGOMERY        36008 \n",
       "3  1001  Autauga  AL  698      MONTGOMERY        36051 \n",
       "4  1001  Autauga  AL  698      MONTGOMERY        36066 \n",
       "5  1001  Autauga  AL  698      MONTGOMERY        36067 \n",
       "6  1001  Autauga  AL  698      MONTGOMERY        36068 \n",
       "7  1001  Autauga  AL  698      MONTGOMERY        36749 \n",
       "8  1003  Baldwin  AL  686      MOBILE-PENSACOLA  36507 \n",
       "9  1003  Baldwin  AL  686      MOBILE-PENSACOLA  36511 "
      ]
     },
     "execution_count": 262,
     "metadata": {},
     "output_type": "execute_result"
    }
   ],
   "source": [
    "dma.head(10)"
   ]
  },
  {
   "cell_type": "code",
   "execution_count": 263,
   "metadata": {},
   "outputs": [],
   "source": [
    "dma.rename(columns={\"ZIPCODE\": \"venue_zip\"}, inplace=True)"
   ]
  },
  {
   "cell_type": "code",
   "execution_count": 264,
   "metadata": {},
   "outputs": [
    {
     "name": "stdout",
     "output_type": "stream",
     "text": [
      "<class 'pandas.core.frame.DataFrame'>\n",
      "RangeIndex: 81474 entries, 0 to 81473\n",
      "Data columns (total 16 columns):\n",
      "event_description    81474 non-null object\n",
      "event_end_utc        81474 non-null object\n",
      "event_id             81474 non-null object\n",
      "event_name           81474 non-null object\n",
      "event_start_utc      81474 non-null object\n",
      "facebook_event_id    53788 non-null object\n",
      "hashtag              14287 non-null object\n",
      "organization_id      81474 non-null object\n",
      "organization_name    81474 non-null object\n",
      "tags                 81474 non-null object\n",
      "venue_city           81474 non-null object\n",
      "venue_name           81474 non-null object\n",
      "venue_state          81474 non-null object\n",
      "venue_street         81474 non-null object\n",
      "venue_timezone       81474 non-null object\n",
      "venue_zip            81474 non-null object\n",
      "dtypes: object(16)\n",
      "memory usage: 9.9+ MB\n"
     ]
    },
    {
     "data": {
      "text/plain": [
       "Index(['event_description', 'event_end_utc', 'event_id', 'event_name',\n",
       "       'event_start_utc', 'facebook_event_id', 'hashtag', 'organization_id',\n",
       "       'organization_name', 'tags', 'venue_city', 'venue_name', 'venue_state',\n",
       "       'venue_street', 'venue_timezone', 'venue_zip'],\n",
       "      dtype='object')"
      ]
     },
     "execution_count": 264,
     "metadata": {},
     "output_type": "execute_result"
    }
   ],
   "source": [
    "events_df.info()\n",
    "events_df.columns"
   ]
  },
  {
   "cell_type": "code",
   "execution_count": 265,
   "metadata": {},
   "outputs": [],
   "source": [
    "# Filling missing values with \"Unknown\"\n",
    "events_df=events_df.fillna(value=\"Unknown\")"
   ]
  },
  {
   "cell_type": "code",
   "execution_count": 266,
   "metadata": {},
   "outputs": [
    {
     "data": {
      "text/plain": [
       "72984"
      ]
     },
     "execution_count": 266,
     "metadata": {},
     "output_type": "execute_result"
    }
   ],
   "source": [
    "len(events_df_new['event_name'].unique())\n",
    "### There must be some duplicates in the event name"
   ]
  },
  {
   "cell_type": "code",
   "execution_count": 267,
   "metadata": {},
   "outputs": [],
   "source": [
    "#I dropped all duplicate events across columns event name and state\n",
    "events_df = events_df.drop_duplicates(subset=['event_name', 'venue_state'])"
   ]
  },
  {
   "cell_type": "code",
   "execution_count": 268,
   "metadata": {},
   "outputs": [
    {
     "name": "stdout",
     "output_type": "stream",
     "text": [
      "<class 'pandas.core.frame.DataFrame'>\n",
      "Int64Index: 73545 entries, 0 to 81473\n",
      "Data columns (total 16 columns):\n",
      "event_description    73545 non-null object\n",
      "event_end_utc        73545 non-null object\n",
      "event_id             73545 non-null object\n",
      "event_name           73545 non-null object\n",
      "event_start_utc      73545 non-null object\n",
      "facebook_event_id    73545 non-null object\n",
      "hashtag              73545 non-null object\n",
      "organization_id      73545 non-null object\n",
      "organization_name    73545 non-null object\n",
      "tags                 73545 non-null object\n",
      "venue_city           73545 non-null object\n",
      "venue_name           73545 non-null object\n",
      "venue_state          73545 non-null object\n",
      "venue_street         73545 non-null object\n",
      "venue_timezone       73545 non-null object\n",
      "venue_zip            73545 non-null object\n",
      "dtypes: object(16)\n",
      "memory usage: 9.5+ MB\n"
     ]
    }
   ],
   "source": [
    "events_df.info()"
   ]
  },
  {
   "cell_type": "code",
   "execution_count": 269,
   "metadata": {},
   "outputs": [],
   "source": [
    "#Merge DMA name and code to events data\n",
    "events_df = events_df.merge(dma[['DMA CODE','DMA NAME','venue_zip']],how='left',on='venue_zip')"
   ]
  },
  {
   "cell_type": "code",
   "execution_count": 270,
   "metadata": {},
   "outputs": [],
   "source": [
    "events_df_new = events_df[['event_description', 'event_name','organization_name','venue_city', 'venue_state','DMA CODE','DMA NAME']]"
   ]
  },
  {
   "cell_type": "code",
   "execution_count": 279,
   "metadata": {},
   "outputs": [
    {
     "data": {
      "text/plain": [
       "event_description    Celebrate Halloween Regency style with this scary spin on a Jane Austen classic! Bring a picnic dinner and your best Halloween costume to take in this spooky movie on the lawn of Dumbarton House!\\n\\nWhat you need to know:\\n\\nMovie is rated PG-13 for zombie violence\\n\\nNo outside alcohol or glass\\n\\nPicnics welcome\\n\\nDress warm as event is outdoors\\n\\nWarm beverages and snacks available for purchase\\n\\nBlankets are encouraged. Visitors with chairs will be seated on the gravel path and at the back of the lawn.\\n\\nNo dogs and no smoking allowed\\n\\nTickets are non-refundable\\n\\nIn the event of rain, event will be canceled by 3pm via social media with a rain date of November 2nd\\n\\nGates open at 5:00pm for members and 5:30pm for the general public.\\n\\n\\n                                                                            \n",
       "event_name           Outdoor Movie Night: Pride and Prejudice and Zombies                                                                                                                                                                                                                                                                                                                                                                                                                                                                                                                                                                                                                                                                                                                                                                                                                \n",
       "organization_name    Dumbarton House                                                                                                                                                                                                                                                                                                                                                                                                                                                                                                                                                                                                                                                                                                                                                                                                                                                     \n",
       "venue_city           Washington                                                                                                                                                                                                                                                                                                                                                                                                                                                                                                                                                                                                                                                                                                                                                                                                                                                          \n",
       "venue_state          DC                                                                                                                                                                                                                                                                                                                                                                                                                                                                                                                                                                                                                                                                                                                                                                                                                                                                  \n",
       "DMA CODE             511                                                                                                                                                                                                                                                                                                                                                                                                                                                                                                                                                                                                                                                                                                                                                                                                                                                                 \n",
       "DMA NAME             WASHINGTON, DC-HAGRSTWN                                                                                                                                                                                                                                                                                                                                                                                                                                                                                                                                                                                                                                                                                                                                                                                                                                             \n",
       "info                 Celebrate Halloween Regency style with this scary spin on a Jane Austen classic! Bring a picnic dinner and your best Halloween costume to take in this spooky movie on the lawn of Dumbarton House!\\n\\nWhat you need to know:\\n\\nMovie is rated PG-13 for zombie violence\\n\\nNo outside alcohol or glass\\n\\nPicnics welcome\\n\\nDress warm as event is outdoors\\n\\nWarm beverages and snacks available for purchase\\n\\nBlankets are encouraged. Visitors with chairs will be seated on the gravel path and at the back of the lawn.\\n\\nNo dogs and no smoking allowed\\n\\nTickets are non-refundable\\n\\nIn the event of rain, event will be canceled by 3pm via social media with a rain date of November 2nd\\n\\nGates open at 5:00pm for members and 5:30pm for the general public.\\n\\n\\n Outdoor Movie Night: Pride and Prejudice and Zombies Dumbarton House 511 DC\n",
       "Name: 2, dtype: object"
      ]
     },
     "execution_count": 279,
     "metadata": {},
     "output_type": "execute_result"
    }
   ],
   "source": [
    "#Create a new column called info which will contain event description; event name; state within each record:\n",
    "events_df_new['info'] = events_df_new['event_description']+' '+events_df_new['event_name']+' '+events_df_new['organization_name']+' '+ events_df_new['DMA CODE']+' '+ events_df_new['venue_state'] \n",
    "events_df_new['info'].fillna('', inplace=True)\n",
    "events_df_new.iloc[2]"
   ]
  },
  {
   "cell_type": "code",
   "execution_count": 280,
   "metadata": {},
   "outputs": [],
   "source": [
    "#TfidfVectorizer function from scikit-learn, which transforms text to feature vectors that can be used as input to estimator.\n",
    "\n",
    "from sklearn.feature_extraction.text import CountVectorizer, TfidfVectorizer\n",
    "import matplotlib.pyplot as plt\n",
    "import scipy.spatial.distance as dist\n",
    "\n",
    "\n",
    "tfidf = TfidfVectorizer(input='content', encoding='iso-8859-1', \n",
    "                      decode_error='ignore', analyzer='word', max_df=0.8, # drop words that occur in more than 80% of events\n",
    "                      min_df=5, # only use words that appear in at least 5 events \n",
    "                      lowercase=True, #convert everything to lower case\n",
    "                      ngram_range=(1,2), stop_words='english')"
   ]
  },
  {
   "cell_type": "code",
   "execution_count": 281,
   "metadata": {},
   "outputs": [
    {
     "name": "stdout",
     "output_type": "stream",
     "text": [
      "Number of features: 205434\n"
     ]
    },
    {
     "data": {
      "text/plain": [
       "(73545, 205434)"
      ]
     },
     "execution_count": 281,
     "metadata": {},
     "output_type": "execute_result"
    }
   ],
   "source": [
    "tfidf_m = tfidf.fit_transform(events_df_new['info'])\n",
    "print(\"Number of features: %d\" % tfidf_m.get_shape()[1])\n",
    "tfidf_m.shape"
   ]
  },
  {
   "cell_type": "code",
   "execution_count": 274,
   "metadata": {},
   "outputs": [
    {
     "data": {
      "text/plain": [
       "scipy.sparse.csr.csr_matrix"
      ]
     },
     "execution_count": 274,
     "metadata": {},
     "output_type": "execute_result"
    }
   ],
   "source": [
    "type(tfidf_m)"
   ]
  },
  {
   "cell_type": "code",
   "execution_count": 282,
   "metadata": {},
   "outputs": [
    {
     "data": {
      "text/plain": [
       "(73545, 100)"
      ]
     },
     "execution_count": 282,
     "metadata": {},
     "output_type": "execute_result"
    }
   ],
   "source": [
    "#Compute the SVD and convert data to latent space\n",
    "\n",
    "import scipy\n",
    "from scipy import linalg\n",
    "from scipy.sparse.linalg import svds\n",
    "from sklearn.metrics.pairwise import linear_kernel\n",
    "\n",
    "U, sigma, Vt = svds(tfidf_m, k= 100)\n",
    "U.shape"
   ]
  },
  {
   "cell_type": "code",
   "execution_count": null,
   "metadata": {},
   "outputs": [],
   "source": [
    "\"\"\"\n",
    "u, s, vt  = svds(tfidf_m)\n",
    "\n",
    "energy_sq = scipy.linalg.norm(s)**2\n",
    "approx_energy_sq = scipy.linalg.norm(s[:5])**2\n",
    "percentage = approx_energy_sq*100/energy_sq\n",
    "percentage\n",
    "\n",
    "\"\"\""
   ]
  },
  {
   "cell_type": "code",
   "execution_count": 283,
   "metadata": {},
   "outputs": [
    {
     "data": {
      "text/plain": [
       "array([ 6.00581745e-03, -9.53591514e-04, -5.42287558e-03, -1.38631908e-03,\n",
       "        5.56747245e-04, -8.03048402e-03, -6.88303019e-03,  1.05976269e-03,\n",
       "       -1.07113579e-03, -5.46203629e-03,  4.29932310e-03, -3.13754451e-04,\n",
       "        6.61954509e-04,  1.80356529e-03, -7.48142007e-04,  1.30517221e-03,\n",
       "        2.21285443e-03,  1.65890476e-04, -2.75931846e-03, -2.86642884e-03,\n",
       "        5.55294014e-03, -1.15914578e-03, -1.98711297e-03,  4.19428366e-03,\n",
       "        9.19496259e-04,  4.90283276e-03,  2.15736545e-03, -7.49776700e-04,\n",
       "       -1.63617353e-03, -4.93886365e-03, -2.07416954e-03,  2.53558518e-03,\n",
       "       -4.19932100e-03,  4.48849431e-03,  3.19389358e-03,  7.69574048e-04,\n",
       "       -1.95257751e-03, -1.09023767e-03,  1.44894133e-03,  2.15658085e-03,\n",
       "       -1.64157561e-04,  2.77517436e-04, -7.95318984e-04,  2.62760994e-05,\n",
       "       -4.09214190e-04, -4.58544319e-04, -1.70345745e-03,  3.27409213e-04,\n",
       "        1.33071676e-03, -1.09836685e-03,  1.09995300e-03,  1.21205124e-03,\n",
       "       -1.89879987e-03,  4.78333627e-04, -2.10163240e-03, -5.01598740e-04,\n",
       "        1.44678895e-03, -8.98915278e-04,  3.47032266e-04, -8.68322785e-04,\n",
       "       -5.16003047e-05, -2.32364792e-03,  9.82189484e-04,  5.67008289e-04,\n",
       "        1.88797654e-05,  1.31452996e-03, -1.82351462e-05,  5.18031332e-04,\n",
       "        1.15614482e-03, -2.86677507e-04, -3.40310897e-04, -9.17101030e-05,\n",
       "       -4.16474418e-04,  1.58694525e-04, -3.36900175e-04, -2.19808587e-04,\n",
       "       -2.25734613e-05,  6.84595133e-04,  1.18661298e-03,  6.02375273e-05,\n",
       "       -1.29777828e-04, -5.87388941e-05, -9.01627359e-05, -3.56073269e-05,\n",
       "       -3.58920252e-04,  4.01687828e-04, -1.94132626e-04, -7.51276937e-04,\n",
       "        4.54528006e-04,  6.17920445e-04,  3.93852117e-04, -2.40238081e-05,\n",
       "       -1.24999728e-04,  1.44121675e-05, -7.45418657e-04,  6.33613238e-04,\n",
       "        7.53566732e-04, -9.93746439e-05,  1.11176950e-04,  5.19801183e-04])"
      ]
     },
     "execution_count": 283,
     "metadata": {},
     "output_type": "execute_result"
    }
   ],
   "source": [
    "U[0]"
   ]
  },
  {
   "cell_type": "markdown",
   "metadata": {},
   "source": [
    "I will be using the Cosine Similarity to calculate the similarity between two events. \n",
    "Since we have used the TF-IDF Vectorizer, calculating the Dot Product will directly give us the Cosine Similarity Score. "
   ]
  },
  {
   "cell_type": "markdown",
   "metadata": {},
   "source": [
    "The next step is to write a function that returns the 5 most similar events based on the cosine similarity score."
   ]
  },
  {
   "cell_type": "code",
   "execution_count": 284,
   "metadata": {},
   "outputs": [],
   "source": [
    "event_name = events_df['event_name']\n",
    "indices = pd.Series(events_df.index, index=events_df['event_name'])\n",
    "\n",
    "from sklearn.metrics.pairwise import cosine_similarity\n",
    "def events_recommendations(r):\n",
    "    idx = indices[r]\n",
    "    try:\n",
    "        idx = idx.tolist()\n",
    "        cos = cosine_similarity(U[idx[0]:int(idx[0])+1], U)\n",
    "    except TypeError:\n",
    "        cos = cosine_similarity(U[idx:int(idx)+1], U)\n",
    "    sim_scores = list(enumerate(cos.ravel()))\n",
    "    sim_scores = sorted(sim_scores, key=lambda x: x[1], reverse=True)\n",
    "    sim_scores = sim_scores[1:6]\n",
    "    event_indices = [i[0] for i in sim_scores]\n",
    "    pd.set_option('display.max_colwidth', -1)\n",
    "    return events_df[['event_name','venue_street','venue_city', 'venue_state','venue_zip','event_description']].iloc[event_indices]"
   ]
  },
  {
   "cell_type": "code",
   "execution_count": 228,
   "metadata": {},
   "outputs": [],
   "source": [
    "\"\"\"\n",
    "def events_recommendations(r):\n",
    "    idx = indices[r]\n",
    "    try:\n",
    "        idx = idx.tolist()\n",
    "        cos = cosine_similarity(U[idx[0]:int(idx[0])+1], U)\n",
    "        sim_scores = list(enumerate(cos.ravel()))\n",
    "        sim_scores = sorted(sim_scores, key=lambda x: x[1], reverse=True)\n",
    "        sim_scores = sim_scores[1:6]\n",
    "        event_indices = [i[0] for i in sim_scores]\n",
    "        pd.set_option('display.max_colwidth', -1)\n",
    "        return events_df[['event_name','venue_street','venue_city', 'venue_state','venue_zip','event_description']].iloc[event_indices]\n",
    "    except TypeError:\n",
    "        cos = cosine_similarity(U[idx:int(idx)+1], U)\n",
    "        sim_scores = list(enumerate(cos.ravel()))\n",
    "        sim_scores = sorted(sim_scores, key=lambda x: x[1], reverse=True)\n",
    "        sim_scores = sim_scores[1:6]\n",
    "        event_indices = [i[0] for i in sim_scores]\n",
    "        pd.set_option('display.max_colwidth', -1)\n",
    "        return events_df[['event_name','venue_street','venue_city', 'venue_state','venue_zip','event_description']].iloc[event_indices]\n",
    "\"\"\""
   ]
  },
  {
   "cell_type": "code",
   "execution_count": 285,
   "metadata": {},
   "outputs": [
    {
     "data": {
      "text/html": [
       "<div>\n",
       "<style scoped>\n",
       "    .dataframe tbody tr th:only-of-type {\n",
       "        vertical-align: middle;\n",
       "    }\n",
       "\n",
       "    .dataframe tbody tr th {\n",
       "        vertical-align: top;\n",
       "    }\n",
       "\n",
       "    .dataframe thead th {\n",
       "        text-align: right;\n",
       "    }\n",
       "</style>\n",
       "<table border=\"1\" class=\"dataframe\">\n",
       "  <thead>\n",
       "    <tr style=\"text-align: right;\">\n",
       "      <th></th>\n",
       "      <th>event_name</th>\n",
       "      <th>venue_street</th>\n",
       "      <th>venue_city</th>\n",
       "      <th>venue_state</th>\n",
       "      <th>venue_zip</th>\n",
       "      <th>event_description</th>\n",
       "    </tr>\n",
       "  </thead>\n",
       "  <tbody>\n",
       "    <tr>\n",
       "      <th>39636</th>\n",
       "      <td>Seveer Havoc</td>\n",
       "      <td>3100 Boston St</td>\n",
       "      <td>Baltimore</td>\n",
       "      <td>MD</td>\n",
       "      <td>21224</td>\n",
       "      <td>Travis \"Seveer\"Â Reeves defending his USBO title\\n</td>\n",
       "    </tr>\n",
       "    <tr>\n",
       "      <th>13367</th>\n",
       "      <td>Spring Bluegrass- Tom Beers Collective</td>\n",
       "      <td>12820 Long Green Pike</td>\n",
       "      <td>Hydes</td>\n",
       "      <td>MD</td>\n",
       "      <td>21082</td>\n",
       "      <td>Join this fabulous callobration of some of the finest Bluegrass musicians in MD.\\n</td>\n",
       "    </tr>\n",
       "    <tr>\n",
       "      <th>57112</th>\n",
       "      <td>ANYONE CAN LOSE</td>\n",
       "      <td>6871 Dogwood Rd</td>\n",
       "      <td>Milford Mill</td>\n",
       "      <td>MD</td>\n",
       "      <td>21244</td>\n",
       "      <td>PROFESSIONAL BOXING\\n</td>\n",
       "    </tr>\n",
       "    <tr>\n",
       "      <th>14341</th>\n",
       "      <td>Job Fair in Southern AACo</td>\n",
       "      <td>5757 Solomons Island Road</td>\n",
       "      <td>Lothian</td>\n",
       "      <td>MD</td>\n",
       "      <td>20711</td>\n",
       "      <td>Stop by and Visit Me at the Seacret Table!!!!\\n\\nÂ \\n</td>\n",
       "    </tr>\n",
       "    <tr>\n",
       "      <th>35444</th>\n",
       "      <td>The Pickin' Coalition</td>\n",
       "      <td>12820 Long Green Pike</td>\n",
       "      <td>Hydes</td>\n",
       "      <td>MD</td>\n",
       "      <td>21082</td>\n",
       "      <td>The regions finest Bluegrass Bands\\n</td>\n",
       "    </tr>\n",
       "  </tbody>\n",
       "</table>\n",
       "</div>"
      ],
      "text/plain": [
       "                                   event_name               venue_street  \\\n",
       "39636  Seveer Havoc                            3100 Boston St              \n",
       "13367  Spring Bluegrass- Tom Beers Collective  12820 Long Green Pike       \n",
       "57112  ANYONE CAN LOSE                         6871 Dogwood Rd             \n",
       "14341  Job Fair in Southern AACo               5757 Solomons Island Road   \n",
       "35444  The Pickin' Coalition                   12820 Long Green Pike       \n",
       "\n",
       "         venue_city venue_state venue_zip  \\\n",
       "39636  Baltimore     MD          21224      \n",
       "13367  Hydes         MD          21082      \n",
       "57112  Milford Mill  MD          21244      \n",
       "14341  Lothian       MD          20711      \n",
       "35444  Hydes         MD          21082      \n",
       "\n",
       "                                                                        event_description  \n",
       "39636  Travis \"Seveer\"Â Reeves defending his USBO title\\n                                  \n",
       "13367  Join this fabulous callobration of some of the finest Bluegrass musicians in MD.\\n  \n",
       "57112  PROFESSIONAL BOXING\\n                                                               \n",
       "14341  Stop by and Visit Me at the Seacret Table!!!!\\n\\nÂ \\n                               \n",
       "35444  The regions finest Bluegrass Bands\\n                                                "
      ]
     },
     "execution_count": 285,
     "metadata": {},
     "output_type": "execute_result"
    }
   ],
   "source": [
    "#Testing\n",
    "events_recommendations('Motobrewtour')"
   ]
  },
  {
   "cell_type": "code",
   "execution_count": 286,
   "metadata": {},
   "outputs": [
    {
     "data": {
      "text/html": [
       "<div>\n",
       "<style scoped>\n",
       "    .dataframe tbody tr th:only-of-type {\n",
       "        vertical-align: middle;\n",
       "    }\n",
       "\n",
       "    .dataframe tbody tr th {\n",
       "        vertical-align: top;\n",
       "    }\n",
       "\n",
       "    .dataframe thead th {\n",
       "        text-align: right;\n",
       "    }\n",
       "</style>\n",
       "<table border=\"1\" class=\"dataframe\">\n",
       "  <thead>\n",
       "    <tr style=\"text-align: right;\">\n",
       "      <th></th>\n",
       "      <th>event_name</th>\n",
       "      <th>venue_street</th>\n",
       "      <th>venue_city</th>\n",
       "      <th>venue_state</th>\n",
       "      <th>venue_zip</th>\n",
       "      <th>event_description</th>\n",
       "    </tr>\n",
       "  </thead>\n",
       "  <tbody>\n",
       "    <tr>\n",
       "      <th>10206</th>\n",
       "      <td>EG Yoga</td>\n",
       "      <td>1727 N Front St</td>\n",
       "      <td>Philadelphia</td>\n",
       "      <td>PA</td>\n",
       "      <td>19122</td>\n",
       "      <td>Swing by Sunday, June 10th forÂ yoga with Grace and Glory.\\n\\nAll levels are welcome - just bring a mat.Your class ticket includes your first 16oz beer after class.Â \\n</td>\n",
       "    </tr>\n",
       "    <tr>\n",
       "      <th>34265</th>\n",
       "      <td>Pints and Poses with Grace and Glory</td>\n",
       "      <td>1727 N Front St</td>\n",
       "      <td>Philadelphia</td>\n",
       "      <td>PA</td>\n",
       "      <td>19122</td>\n",
       "      <td>Swing by Sunday, June 10th forÂ yoga with Grace and Glory.\\n\\nAll levels are welcome - just bring a mat.Your class ticket includes your first 16oz beer after class.Â \\n</td>\n",
       "    </tr>\n",
       "    <tr>\n",
       "      <th>1971</th>\n",
       "      <td>Yoga with Jake</td>\n",
       "      <td>1727 N Front St</td>\n",
       "      <td>Philadelphia</td>\n",
       "      <td>PA</td>\n",
       "      <td>19122</td>\n",
       "      <td>Yoga with Jake!Enjoy a class, a glass &amp; some snacks!$25 per person. All levels welcome - bring your own mat.Â \\n</td>\n",
       "    </tr>\n",
       "    <tr>\n",
       "      <th>50965</th>\n",
       "      <td>Zen Yoga with Devan-Yoga and a beer</td>\n",
       "      <td>324 W Main St</td>\n",
       "      <td>Lansdale</td>\n",
       "      <td>PA</td>\n",
       "      <td>19446</td>\n",
       "      <td>Join us for some Yoga in our Pub. Â $15 gets you one hour of Yoga plus a beer\\n</td>\n",
       "    </tr>\n",
       "    <tr>\n",
       "      <th>46885</th>\n",
       "      <td>Beer &amp; Yoga - Iron Hill Media</td>\n",
       "      <td>30 E State St</td>\n",
       "      <td>Media</td>\n",
       "      <td>PA</td>\n",
       "      <td>19063</td>\n",
       "      <td>BEER &amp; YOGA is back atÂ Iron Hill Brewery &amp; RestaurantÂ in Media, PA!Join us on Saturday, June 16th for fun, all-levels yoga class led by Iron Hill's own Tori Tilley! After class, head on over to the bar for some healthy snacks and of course... BEER!Â Class will be from 9:30-10:30am, with food and drinks to follow!\\n\\n$25 to sign up - price includes the yoga class, a beer of your choice, and a spread of healthy snacks.Please bring your own yoga mat.No experience necessary - beginners welcome and encouraged!\\n\\nIf you have any questions, please callÂ (610) 627-9000 or email yogabytori@gmail.com!\\n</td>\n",
       "    </tr>\n",
       "  </tbody>\n",
       "</table>\n",
       "</div>"
      ],
      "text/plain": [
       "                                 event_name     venue_street    venue_city  \\\n",
       "10206  EG Yoga                               1727 N Front St  Philadelphia   \n",
       "34265  Pints and Poses with Grace and Glory  1727 N Front St  Philadelphia   \n",
       "1971   Yoga with Jake                        1727 N Front St  Philadelphia   \n",
       "50965  Zen Yoga with Devan-Yoga and a beer   324 W Main St    Lansdale       \n",
       "46885  Beer & Yoga - Iron Hill Media         30 E State St    Media          \n",
       "\n",
       "      venue_state venue_zip  \\\n",
       "10206  PA          19122      \n",
       "34265  PA          19122      \n",
       "1971   PA          19122      \n",
       "50965  PA          19446      \n",
       "46885  PA          19063      \n",
       "\n",
       "                                                                                                                                                                                                                                                                                                                                                                                                                                                                                                                                                                                                                 event_description  \n",
       "10206  Swing by Sunday, June 10th forÂ yoga with Grace and Glory.\\n\\nAll levels are welcome - just bring a mat.Your class ticket includes your first 16oz beer after class.Â \\n                                                                                                                                                                                                                                                                                                                                                                                                                                                     \n",
       "34265  Swing by Sunday, June 10th forÂ yoga with Grace and Glory.\\n\\nAll levels are welcome - just bring a mat.Your class ticket includes your first 16oz beer after class.Â \\n                                                                                                                                                                                                                                                                                                                                                                                                                                                     \n",
       "1971   Yoga with Jake!Enjoy a class, a glass & some snacks!$25 per person. All levels welcome - bring your own mat.Â \\n                                                                                                                                                                                                                                                                                                                                                                                                                                                                                                             \n",
       "50965  Join us for some Yoga in our Pub. Â $15 gets you one hour of Yoga plus a beer\\n                                                                                                                                                                                                                                                                                                                                                                                                                                                                                                                                              \n",
       "46885  BEER & YOGA is back atÂ Iron Hill Brewery & RestaurantÂ in Media, PA!Join us on Saturday, June 16th for fun, all-levels yoga class led by Iron Hill's own Tori Tilley! After class, head on over to the bar for some healthy snacks and of course... BEER!Â Class will be from 9:30-10:30am, with food and drinks to follow!\\n\\n$25 to sign up - price includes the yoga class, a beer of your choice, and a spread of healthy snacks.Please bring your own yoga mat.No experience necessary - beginners welcome and encouraged!\\n\\nIf you have any questions, please callÂ (610) 627-9000 or email yogabytori@gmail.com!\\n  "
      ]
     },
     "execution_count": 286,
     "metadata": {},
     "output_type": "execute_result"
    }
   ],
   "source": [
    "#Testing\n",
    "events_recommendations('Evil Genius Yoga')"
   ]
  },
  {
   "cell_type": "code",
   "execution_count": 287,
   "metadata": {},
   "outputs": [],
   "source": [
    "# In case the input is event_id.\n",
    "event_id = events_df['event_id']\n",
    "indices_id = pd.Series(events_df.index, index=events_df['event_id'])\n",
    "\n",
    "from sklearn.metrics.pairwise import cosine_similarity\n",
    "\n",
    "def event_recommendations(r):\n",
    "    idx = indices_id[r]\n",
    "    cos = cosine_similarity(U[idx:int(idx)+1], U)\n",
    "    sim_scores = list(enumerate(cos.ravel()))\n",
    "    sim_scores = sorted(sim_scores, key=lambda x: x[1], reverse=True)\n",
    "    sim_scores = sim_scores[1:6]\n",
    "    event_indices = [i[0] for i in sim_scores]\n",
    "    pd.set_option('display.max_colwidth', -1)\n",
    "    df = events_df[['event_id']].iloc[event_indices]\n",
    "    df['query_id'] = r\n",
    "    return df"
   ]
  },
  {
   "cell_type": "code",
   "execution_count": 288,
   "metadata": {},
   "outputs": [
    {
     "data": {
      "text/html": [
       "<div>\n",
       "<style scoped>\n",
       "    .dataframe tbody tr th:only-of-type {\n",
       "        vertical-align: middle;\n",
       "    }\n",
       "\n",
       "    .dataframe tbody tr th {\n",
       "        vertical-align: top;\n",
       "    }\n",
       "\n",
       "    .dataframe thead th {\n",
       "        text-align: right;\n",
       "    }\n",
       "</style>\n",
       "<table border=\"1\" class=\"dataframe\">\n",
       "  <thead>\n",
       "    <tr style=\"text-align: right;\">\n",
       "      <th></th>\n",
       "      <th>event_id</th>\n",
       "      <th>query_id</th>\n",
       "    </tr>\n",
       "  </thead>\n",
       "  <tbody>\n",
       "    <tr>\n",
       "      <th>1909</th>\n",
       "      <td>9aee416a-f168-11e7-8513-22000aba37e5</td>\n",
       "      <td>b8f8d1e2-f713-11e7-95bb-22000a66e11f</td>\n",
       "    </tr>\n",
       "    <tr>\n",
       "      <th>5314</th>\n",
       "      <td>6f9349cc-29f2-11e7-9497-22000bb4eb03</td>\n",
       "      <td>b8f8d1e2-f713-11e7-95bb-22000a66e11f</td>\n",
       "    </tr>\n",
       "    <tr>\n",
       "      <th>38</th>\n",
       "      <td>bb13fcf8-2537-11e7-ba8a-22000bccc0a9</td>\n",
       "      <td>b8f8d1e2-f713-11e7-95bb-22000a66e11f</td>\n",
       "    </tr>\n",
       "    <tr>\n",
       "      <th>18844</th>\n",
       "      <td>ca41a59c-2625-11e7-ae7c-22000bb0d347</td>\n",
       "      <td>b8f8d1e2-f713-11e7-95bb-22000a66e11f</td>\n",
       "    </tr>\n",
       "    <tr>\n",
       "      <th>29121</th>\n",
       "      <td>5f90ea0a-c688-11e8-b57a-22000b0a8195</td>\n",
       "      <td>b8f8d1e2-f713-11e7-95bb-22000a66e11f</td>\n",
       "    </tr>\n",
       "  </tbody>\n",
       "</table>\n",
       "</div>"
      ],
      "text/plain": [
       "                                   event_id  \\\n",
       "1909   9aee416a-f168-11e7-8513-22000aba37e5   \n",
       "5314   6f9349cc-29f2-11e7-9497-22000bb4eb03   \n",
       "38     bb13fcf8-2537-11e7-ba8a-22000bccc0a9   \n",
       "18844  ca41a59c-2625-11e7-ae7c-22000bb0d347   \n",
       "29121  5f90ea0a-c688-11e8-b57a-22000b0a8195   \n",
       "\n",
       "                                   query_id  \n",
       "1909   b8f8d1e2-f713-11e7-95bb-22000a66e11f  \n",
       "5314   b8f8d1e2-f713-11e7-95bb-22000a66e11f  \n",
       "38     b8f8d1e2-f713-11e7-95bb-22000a66e11f  \n",
       "18844  b8f8d1e2-f713-11e7-95bb-22000a66e11f  \n",
       "29121  b8f8d1e2-f713-11e7-95bb-22000a66e11f  "
      ]
     },
     "execution_count": 288,
     "metadata": {},
     "output_type": "execute_result"
    }
   ],
   "source": [
    "event_recommendations('b8f8d1e2-f713-11e7-95bb-22000a66e11f')"
   ]
  },
  {
   "cell_type": "code",
   "execution_count": null,
   "metadata": {},
   "outputs": [],
   "source": [
    "\"\"\"\n",
    "df = pd.DataFrame()\n",
    "for r in event_id[0:1001]:\n",
    "    df = df.append(event_recommendations(r))\n",
    "\n",
    "\"\"\""
   ]
  },
  {
   "cell_type": "code",
   "execution_count": 27,
   "metadata": {},
   "outputs": [],
   "source": [
    "df.to_csv('phase4_first1000.csv', encoding='utf-8')"
   ]
  },
  {
   "cell_type": "code",
   "execution_count": 241,
   "metadata": {},
   "outputs": [
    {
     "data": {
      "text/html": [
       "<div>\n",
       "<style scoped>\n",
       "    .dataframe tbody tr th:only-of-type {\n",
       "        vertical-align: middle;\n",
       "    }\n",
       "\n",
       "    .dataframe tbody tr th {\n",
       "        vertical-align: top;\n",
       "    }\n",
       "\n",
       "    .dataframe thead th {\n",
       "        text-align: right;\n",
       "    }\n",
       "</style>\n",
       "<table border=\"1\" class=\"dataframe\">\n",
       "  <thead>\n",
       "    <tr style=\"text-align: right;\">\n",
       "      <th></th>\n",
       "      <th>event_description</th>\n",
       "      <th>event_end_utc</th>\n",
       "      <th>event_id</th>\n",
       "      <th>event_name</th>\n",
       "      <th>event_start_utc</th>\n",
       "      <th>facebook_event_id</th>\n",
       "      <th>hashtag</th>\n",
       "      <th>organization_id</th>\n",
       "      <th>organization_name</th>\n",
       "      <th>tags</th>\n",
       "      <th>venue_city</th>\n",
       "      <th>venue_name</th>\n",
       "      <th>venue_state</th>\n",
       "      <th>venue_street</th>\n",
       "      <th>venue_timezone</th>\n",
       "      <th>venue_zip</th>\n",
       "      <th>DMA CODE</th>\n",
       "      <th>DMA NAME</th>\n",
       "    </tr>\n",
       "  </thead>\n",
       "  <tbody>\n",
       "    <tr>\n",
       "      <th>73543</th>\n",
       "      <td>This is the secondÂ After Hours event at the museum. Adults over 21 only. Advance tickets only. Ticket priceÂ will include beer, wine and snacks.Â  Get tours of the museum, hear stories about digging dinosaurs, try out interactive exhibits, maybe even play with dinosaur toys.\\n</td>\n",
       "      <td>12 Aug 2018 02:00:00</td>\n",
       "      <td>86ebb60a-7a0e-11e8-a141-22000b2e0019</td>\n",
       "      <td>Museum After Hours - August</td>\n",
       "      <td>11 Aug 2018 23:00:00</td>\n",
       "      <td>Unknown</td>\n",
       "      <td>Unknown</td>\n",
       "      <td>earth-experience</td>\n",
       "      <td>Earth Experience</td>\n",
       "      <td>[]</td>\n",
       "      <td>Murfreesboro</td>\n",
       "      <td>Earth Experience - Middle Tennessee Museum of Natural History</td>\n",
       "      <td>TN</td>\n",
       "      <td>816 Old Salem Rd</td>\n",
       "      <td>US/Central</td>\n",
       "      <td>37129</td>\n",
       "      <td>659</td>\n",
       "      <td>NASHVILLE</td>\n",
       "    </tr>\n",
       "  </tbody>\n",
       "</table>\n",
       "</div>"
      ],
      "text/plain": [
       "                                                                                                                                                                                                                                                                            event_description  \\\n",
       "73543  This is the secondÂ After Hours event at the museum. Adults over 21 only. Advance tickets only. Ticket priceÂ will include beer, wine and snacks.Â  Get tours of the museum, hear stories about digging dinosaurs, try out interactive exhibits, maybe even play with dinosaur toys.\\n   \n",
       "\n",
       "              event_end_utc                              event_id  \\\n",
       "73543  12 Aug 2018 02:00:00  86ebb60a-7a0e-11e8-a141-22000b2e0019   \n",
       "\n",
       "                        event_name       event_start_utc facebook_event_id  \\\n",
       "73543  Museum After Hours - August  11 Aug 2018 23:00:00  Unknown            \n",
       "\n",
       "       hashtag   organization_id organization_name tags    venue_city  \\\n",
       "73543  Unknown  earth-experience  Earth Experience  []   Murfreesboro   \n",
       "\n",
       "                                                          venue_name  \\\n",
       "73543  Earth Experience - Middle Tennessee Museum of Natural History   \n",
       "\n",
       "      venue_state      venue_street venue_timezone venue_zip DMA CODE  \\\n",
       "73543  TN          816 Old Salem Rd  US/Central     37129     659       \n",
       "\n",
       "        DMA NAME  \n",
       "73543  NASHVILLE  "
      ]
     },
     "execution_count": 241,
     "metadata": {},
     "output_type": "execute_result"
    }
   ],
   "source": [
    "events_df.loc[events_df['event_name'] == 'Museum After Hours - August']"
   ]
  }
 ],
 "metadata": {
  "kernelspec": {
   "display_name": "Python 3",
   "language": "python",
   "name": "python3"
  },
  "language_info": {
   "codemirror_mode": {
    "name": "ipython",
    "version": 3
   },
   "file_extension": ".py",
   "mimetype": "text/x-python",
   "name": "python",
   "nbconvert_exporter": "python",
   "pygments_lexer": "ipython3",
   "version": "3.7.0"
  }
 },
 "nbformat": 4,
 "nbformat_minor": 2
}
