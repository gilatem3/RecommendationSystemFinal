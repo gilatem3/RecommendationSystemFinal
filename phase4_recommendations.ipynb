{
 "cells": [
  {
   "cell_type": "code",
   "execution_count": 1,
   "metadata": {},
   "outputs": [],
   "source": [
    "import numpy as np\n",
    "import pandas as pd \n",
    "import seaborn as sns\n",
    "import matplotlib.pyplot as plt\n",
    "from sklearn.model_selection import train_test_split\n",
    "import warnings\n",
    "from pandas import Series\n",
    "warnings.filterwarnings('ignore')\n",
    "%matplotlib inline"
   ]
  },
  {
   "cell_type": "code",
   "execution_count": 2,
   "metadata": {},
   "outputs": [],
   "source": [
    "# Import the data\n",
    "import json\n",
    "dma = pd.read_csv(\"C:/Users/user/Desktop/Rutgers/DMA-zip.csv\", encoding=\"iso-8859-1\")\n",
    "events = json.load(open('C:/Users/user/Desktop/Rutgers/events.json', 'r'))\n",
    "#Convert list \"event\" to dataframe\n",
    "events_df = pd.DataFrame(events)"
   ]
  },
  {
   "cell_type": "code",
   "execution_count": 3,
   "metadata": {},
   "outputs": [
    {
     "name": "stdout",
     "output_type": "stream",
     "text": [
      "<class 'pandas.core.frame.DataFrame'>\n",
      "RangeIndex: 41535 entries, 0 to 41534\n",
      "Data columns (total 6 columns):\n",
      "FIPS        41535 non-null int64\n",
      "COUNTY      41535 non-null object\n",
      "ST          41535 non-null object\n",
      "DMA CODE    41535 non-null int64\n",
      "DMA NAME    41535 non-null object\n",
      "ZIPCODE     41535 non-null int64\n",
      "dtypes: int64(3), object(3)\n",
      "memory usage: 1.9+ MB\n"
     ]
    }
   ],
   "source": [
    "# First look at the data\n",
    "dma.info()"
   ]
  },
  {
   "cell_type": "code",
   "execution_count": 4,
   "metadata": {},
   "outputs": [
    {
     "name": "stdout",
     "output_type": "stream",
     "text": [
      "<class 'pandas.core.frame.DataFrame'>\n",
      "RangeIndex: 81474 entries, 0 to 81473\n",
      "Data columns (total 16 columns):\n",
      "event_description    81474 non-null object\n",
      "event_end_utc        81474 non-null object\n",
      "event_id             81474 non-null object\n",
      "event_name           81474 non-null object\n",
      "event_start_utc      81474 non-null object\n",
      "facebook_event_id    53788 non-null object\n",
      "hashtag              14287 non-null object\n",
      "organization_id      81474 non-null object\n",
      "organization_name    81474 non-null object\n",
      "tags                 81474 non-null object\n",
      "venue_city           81474 non-null object\n",
      "venue_name           81474 non-null object\n",
      "venue_state          81474 non-null object\n",
      "venue_street         81474 non-null object\n",
      "venue_timezone       81474 non-null object\n",
      "venue_zip            81474 non-null object\n",
      "dtypes: object(16)\n",
      "memory usage: 9.9+ MB\n"
     ]
    },
    {
     "data": {
      "text/plain": [
       "Index(['event_description', 'event_end_utc', 'event_id', 'event_name',\n",
       "       'event_start_utc', 'facebook_event_id', 'hashtag', 'organization_id',\n",
       "       'organization_name', 'tags', 'venue_city', 'venue_name', 'venue_state',\n",
       "       'venue_street', 'venue_timezone', 'venue_zip'],\n",
       "      dtype='object')"
      ]
     },
     "execution_count": 4,
     "metadata": {},
     "output_type": "execute_result"
    }
   ],
   "source": [
    "events_df.info()\n",
    "events_df.columns"
   ]
  },
  {
   "cell_type": "code",
   "execution_count": 5,
   "metadata": {},
   "outputs": [],
   "source": [
    "# Filling missing values with \"Unknown\"\n",
    "events_df=events_df.fillna(value=\"Unknown\")"
   ]
  },
  {
   "cell_type": "code",
   "execution_count": 6,
   "metadata": {
    "scrolled": true
   },
   "outputs": [
    {
     "data": {
      "text/html": [
       "<div>\n",
       "<style scoped>\n",
       "    .dataframe tbody tr th:only-of-type {\n",
       "        vertical-align: middle;\n",
       "    }\n",
       "\n",
       "    .dataframe tbody tr th {\n",
       "        vertical-align: top;\n",
       "    }\n",
       "\n",
       "    .dataframe thead th {\n",
       "        text-align: right;\n",
       "    }\n",
       "</style>\n",
       "<table border=\"1\" class=\"dataframe\">\n",
       "  <thead>\n",
       "    <tr style=\"text-align: right;\">\n",
       "      <th></th>\n",
       "      <th>event_description</th>\n",
       "      <th>event_end_utc</th>\n",
       "      <th>event_id</th>\n",
       "      <th>event_name</th>\n",
       "      <th>event_start_utc</th>\n",
       "      <th>facebook_event_id</th>\n",
       "      <th>hashtag</th>\n",
       "      <th>organization_id</th>\n",
       "      <th>organization_name</th>\n",
       "      <th>tags</th>\n",
       "      <th>venue_city</th>\n",
       "      <th>venue_name</th>\n",
       "      <th>venue_state</th>\n",
       "      <th>venue_street</th>\n",
       "      <th>venue_timezone</th>\n",
       "      <th>venue_zip</th>\n",
       "    </tr>\n",
       "  </thead>\n",
       "  <tbody>\n",
       "    <tr>\n",
       "      <th>0</th>\n",
       "      <td>Moto stickers\\n</td>\n",
       "      <td>17 Jun 2017 18:30:00</td>\n",
       "      <td>16a82bf8-516a-11e7-a10b-22000bb0aa3e</td>\n",
       "      <td>Motobrewtour</td>\n",
       "      <td>17 Jun 2017 18:00:00</td>\n",
       "      <td></td>\n",
       "      <td>Unknown</td>\n",
       "      <td>campbell-inc</td>\n",
       "      <td>Campbell inc</td>\n",
       "      <td>[]</td>\n",
       "      <td>Salisbury</td>\n",
       "      <td>1623 Crawford Dr</td>\n",
       "      <td>MD</td>\n",
       "      <td>1623 Crawford Dr</td>\n",
       "      <td>US/Eastern</td>\n",
       "      <td>21804</td>\n",
       "    </tr>\n",
       "    <tr>\n",
       "      <th>1</th>\n",
       "      <td>Explore a 6-acre Maze, visit the Pumpkin Patch...</td>\n",
       "      <td>12 Nov 2017 23:00:00</td>\n",
       "      <td>4559a156-7669-11e7-ab7f-22000b238d3d</td>\n",
       "      <td>Rockin' K Maze</td>\n",
       "      <td>30 Sep 2017 16:00:00</td>\n",
       "      <td></td>\n",
       "      <td>rockinkmaze2017</td>\n",
       "      <td>rockinkfarms</td>\n",
       "      <td>Rockin' K Farms</td>\n",
       "      <td>[]</td>\n",
       "      <td>Robstown</td>\n",
       "      <td>Rockin' K Maze</td>\n",
       "      <td>TX</td>\n",
       "      <td>5385 CR 52</td>\n",
       "      <td>US/Central</td>\n",
       "      <td>78380</td>\n",
       "    </tr>\n",
       "    <tr>\n",
       "      <th>2</th>\n",
       "      <td>Celebrate Halloween Regency style with this sc...</td>\n",
       "      <td>27 Oct 2018 01:00:00</td>\n",
       "      <td>48414fde-ac70-11e8-9d04-22000ab816c3</td>\n",
       "      <td>Outdoor Movie Night: Pride and Prejudice and Z...</td>\n",
       "      <td>26 Oct 2018 21:30:00</td>\n",
       "      <td></td>\n",
       "      <td>Unknown</td>\n",
       "      <td>dumbartonhouse</td>\n",
       "      <td>Dumbarton House</td>\n",
       "      <td>[]</td>\n",
       "      <td>Washington</td>\n",
       "      <td>Dumbarton House</td>\n",
       "      <td>DC</td>\n",
       "      <td>2715 Q St NW</td>\n",
       "      <td>US/Eastern</td>\n",
       "      <td>20007</td>\n",
       "    </tr>\n",
       "    <tr>\n",
       "      <th>3</th>\n",
       "      <td>Family Friendly Wrestling in Muskegon, MI feat...</td>\n",
       "      <td>20 Nov 2016 02:00:00</td>\n",
       "      <td>cff666d4-85d1-11e6-9cdc-22000ae18222</td>\n",
       "      <td>PPW LIVE IN MUSKEGON</td>\n",
       "      <td>19 Nov 2016 23:00:00</td>\n",
       "      <td></td>\n",
       "      <td>Unknown</td>\n",
       "      <td>prowrestlingatitsfinest</td>\n",
       "      <td>Pure Pro Wrestling</td>\n",
       "      <td>[]</td>\n",
       "      <td>Muskegon</td>\n",
       "      <td>Muskegon VFW Post 446</td>\n",
       "      <td>MI</td>\n",
       "      <td>165 S Getty St</td>\n",
       "      <td>US/Eastern</td>\n",
       "      <td>49442</td>\n",
       "    </tr>\n",
       "    <tr>\n",
       "      <th>4</th>\n",
       "      <td>Come join members of theÂ Empower Texans staff...</td>\n",
       "      <td>18 Jan 2018 02:00:00</td>\n",
       "      <td>b8f8d1e2-f713-11e7-95bb-22000a66e11f</td>\n",
       "      <td>Dallas County Happy Hour</td>\n",
       "      <td>18 Jan 2018 00:00:00</td>\n",
       "      <td>Unknown</td>\n",
       "      <td>Unknown</td>\n",
       "      <td>empowertexans</td>\n",
       "      <td>Empower Texans</td>\n",
       "      <td>[]</td>\n",
       "      <td>Dallas</td>\n",
       "      <td>Yard House - Addison</td>\n",
       "      <td>TX</td>\n",
       "      <td>5100 Belt Line Rd</td>\n",
       "      <td>US/Central</td>\n",
       "      <td>75254</td>\n",
       "    </tr>\n",
       "  </tbody>\n",
       "</table>\n",
       "</div>"
      ],
      "text/plain": [
       "                                   event_description         event_end_utc  \\\n",
       "0                                    Moto stickers\\n  17 Jun 2017 18:30:00   \n",
       "1  Explore a 6-acre Maze, visit the Pumpkin Patch...  12 Nov 2017 23:00:00   \n",
       "2  Celebrate Halloween Regency style with this sc...  27 Oct 2018 01:00:00   \n",
       "3  Family Friendly Wrestling in Muskegon, MI feat...  20 Nov 2016 02:00:00   \n",
       "4  Come join members of theÂ Empower Texans staff...  18 Jan 2018 02:00:00   \n",
       "\n",
       "                               event_id  \\\n",
       "0  16a82bf8-516a-11e7-a10b-22000bb0aa3e   \n",
       "1  4559a156-7669-11e7-ab7f-22000b238d3d   \n",
       "2  48414fde-ac70-11e8-9d04-22000ab816c3   \n",
       "3  cff666d4-85d1-11e6-9cdc-22000ae18222   \n",
       "4  b8f8d1e2-f713-11e7-95bb-22000a66e11f   \n",
       "\n",
       "                                          event_name       event_start_utc  \\\n",
       "0                                       Motobrewtour  17 Jun 2017 18:00:00   \n",
       "1                                     Rockin' K Maze  30 Sep 2017 16:00:00   \n",
       "2  Outdoor Movie Night: Pride and Prejudice and Z...  26 Oct 2018 21:30:00   \n",
       "3                               PPW LIVE IN MUSKEGON  19 Nov 2016 23:00:00   \n",
       "4                           Dallas County Happy Hour  18 Jan 2018 00:00:00   \n",
       "\n",
       "  facebook_event_id          hashtag          organization_id  \\\n",
       "0                            Unknown             campbell-inc   \n",
       "1                    rockinkmaze2017             rockinkfarms   \n",
       "2                            Unknown           dumbartonhouse   \n",
       "3                            Unknown  prowrestlingatitsfinest   \n",
       "4           Unknown          Unknown            empowertexans   \n",
       "\n",
       "    organization_name tags  venue_city             venue_name venue_state  \\\n",
       "0        Campbell inc   []   Salisbury       1623 Crawford Dr          MD   \n",
       "1     Rockin' K Farms   []    Robstown         Rockin' K Maze          TX   \n",
       "2     Dumbarton House   []  Washington        Dumbarton House          DC   \n",
       "3  Pure Pro Wrestling   []    Muskegon  Muskegon VFW Post 446          MI   \n",
       "4      Empower Texans   []      Dallas   Yard House - Addison          TX   \n",
       "\n",
       "        venue_street venue_timezone venue_zip  \n",
       "0   1623 Crawford Dr     US/Eastern     21804  \n",
       "1         5385 CR 52     US/Central     78380  \n",
       "2       2715 Q St NW     US/Eastern     20007  \n",
       "3     165 S Getty St     US/Eastern     49442  \n",
       "4  5100 Belt Line Rd     US/Central     75254  "
      ]
     },
     "execution_count": 6,
     "metadata": {},
     "output_type": "execute_result"
    }
   ],
   "source": [
    "events_df.head()"
   ]
  },
  {
   "cell_type": "code",
   "execution_count": 7,
   "metadata": {},
   "outputs": [],
   "source": [
    "events_df_new = events_df[['event_description', 'event_name','organization_name','venue_city', 'venue_state']]"
   ]
  },
  {
   "cell_type": "code",
   "execution_count": 54,
   "metadata": {},
   "outputs": [
    {
     "data": {
      "text/plain": [
       "event_description    Celebrate Halloween Regency style with this sc...\n",
       "event_name           Outdoor Movie Night: Pride and Prejudice and Z...\n",
       "organization_name                                      Dumbarton House\n",
       "venue_city                                                  Washington\n",
       "venue_state                                                         DC\n",
       "info                 Celebrate Halloween Regency style with this sc...\n",
       "Name: 2, dtype: object"
      ]
     },
     "execution_count": 54,
     "metadata": {},
     "output_type": "execute_result"
    }
   ],
   "source": [
    "#Create a new column called info which will contain event description; event name; state within each record:\n",
    "events_df_new['info'] = events_df_new['event_description']+' '+events_df_new['event_name']+' '+events_df_new['venue_state'] \n",
    "#+ events_df_new['organization_name']\n",
    "events_df_new['info'].fillna('', inplace=True)\n",
    "events_df_new.iloc[2]"
   ]
  },
  {
   "cell_type": "code",
   "execution_count": 55,
   "metadata": {},
   "outputs": [],
   "source": [
    "#TfidfVectorizer function from scikit-learn, which transforms text to feature vectors that can be used as input to estimator.\n",
    "\n",
    "from sklearn.feature_extraction.text import CountVectorizer, TfidfVectorizer\n",
    "import matplotlib.pyplot as plt\n",
    "import scipy.spatial.distance as dist\n",
    "\n",
    "\n",
    "tfidf = TfidfVectorizer(input='content', encoding='iso-8859-1', \n",
    "                      decode_error='ignore', analyzer='word', max_df=0.8, # drop words that occur in more than 80% of articles\n",
    "                      min_df=5, # only use words that appear in at least 5 articles \n",
    "                      lowercase=True, #convert everything to lower case\n",
    "                      ngram_range=(1,2), stop_words='english')"
   ]
  },
  {
   "cell_type": "code",
   "execution_count": 56,
   "metadata": {},
   "outputs": [
    {
     "name": "stdout",
     "output_type": "stream",
     "text": [
      "Number of features: 242281\n"
     ]
    },
    {
     "data": {
      "text/plain": [
       "(81474, 242281)"
      ]
     },
     "execution_count": 56,
     "metadata": {},
     "output_type": "execute_result"
    }
   ],
   "source": [
    "tfidf_m = tfidf.fit_transform(events_df_new['info'])\n",
    "print(\"Number of features: %d\" % tfidf_m.get_shape()[1])\n",
    "tfidf_m.shape"
   ]
  },
  {
   "cell_type": "code",
   "execution_count": 11,
   "metadata": {},
   "outputs": [
    {
     "data": {
      "text/plain": [
       "scipy.sparse.csr.csr_matrix"
      ]
     },
     "execution_count": 11,
     "metadata": {},
     "output_type": "execute_result"
    }
   ],
   "source": [
    "type(tfidf_m)"
   ]
  },
  {
   "cell_type": "code",
   "execution_count": 57,
   "metadata": {},
   "outputs": [
    {
     "data": {
      "text/plain": [
       "(81474, 100)"
      ]
     },
     "execution_count": 57,
     "metadata": {},
     "output_type": "execute_result"
    }
   ],
   "source": [
    "#Compute the SVD and convert data to latent space\n",
    "\n",
    "import scipy\n",
    "from scipy import linalg\n",
    "from scipy.sparse.linalg import svds\n",
    "from sklearn.metrics.pairwise import linear_kernel\n",
    "\n",
    "U, sigma, Vt = svds(tfidf_m, k= 100)\n",
    "U.shape"
   ]
  },
  {
   "cell_type": "code",
   "execution_count": 39,
   "metadata": {},
   "outputs": [
    {
     "data": {
      "text/plain": [
       "array([-2.42205913e-04,  1.09274348e-03,  1.51066140e-03,  1.07038821e-03,\n",
       "       -5.53576591e-05,  1.86006851e-03,  6.52687892e-04,  7.98865203e-05,\n",
       "       -7.01324637e-04,  6.54143530e-04, -1.99934170e-04,  1.68981203e-04,\n",
       "       -1.18862894e-03,  9.96808383e-04, -2.74618807e-04,  4.47283953e-04,\n",
       "        7.44931615e-04, -8.63038318e-04, -6.00309657e-04,  3.88547987e-04,\n",
       "        8.32715605e-04,  4.17046084e-04, -3.57503824e-04,  5.87275281e-04,\n",
       "        7.93484204e-04, -6.70976079e-04, -9.57511939e-05,  3.04249012e-04,\n",
       "       -5.03867627e-04, -4.61884143e-04, -7.42249199e-05,  4.09843478e-04,\n",
       "        6.98955519e-04, -1.92501069e-03, -3.15246861e-04,  4.74715475e-04,\n",
       "        8.39877891e-05, -6.14244915e-04, -5.66166261e-04, -1.10552181e-04,\n",
       "       -1.07550883e-04, -2.34519364e-04,  7.26185073e-04, -1.61960349e-04,\n",
       "        2.11777050e-03, -3.39364670e-03,  1.63964361e-03, -2.60070091e-03,\n",
       "       -2.49467881e-03,  2.67904709e-03,  5.58937365e-03,  1.37613283e-03,\n",
       "        1.86541352e-04,  2.77296239e-03, -1.03760050e-04, -5.39477009e-04,\n",
       "        1.22422085e-03, -6.61640534e-04,  1.53040813e-03,  8.81651921e-05,\n",
       "       -4.36097737e-04,  1.09043586e-04,  7.36763059e-04, -1.19071588e-04,\n",
       "        1.11792629e-04, -3.62061604e-05, -3.06514313e-04,  4.04910495e-04,\n",
       "       -6.73704333e-04,  1.71018597e-04,  2.78648598e-05, -3.78872066e-04,\n",
       "        1.37877069e-04, -2.40569020e-04,  6.97774901e-05,  1.65837306e-04,\n",
       "       -1.90258373e-04,  1.60550825e-05,  4.36904642e-05,  5.11820722e-05,\n",
       "        1.53014555e-04, -4.91925527e-05,  1.41021009e-04, -9.52052939e-05,\n",
       "       -1.37812017e-04,  1.05387394e-04, -4.89545090e-06, -2.86143079e-05,\n",
       "       -2.95683070e-05,  3.47989431e-05, -4.95124080e-05, -4.64752022e-05,\n",
       "        8.35468067e-05, -4.34422995e-07,  4.12980383e-05,  1.90900355e-05,\n",
       "       -1.24997723e-05, -2.95198237e-05, -3.96450612e-05, -5.29565747e-05])"
      ]
     },
     "execution_count": 39,
     "metadata": {},
     "output_type": "execute_result"
    }
   ],
   "source": [
    "U[0]"
   ]
  },
  {
   "cell_type": "markdown",
   "metadata": {},
   "source": [
    "I will be using the Cosine Similarity to calculate the similarity between two events. \n",
    "Since we have used the TF-IDF Vectorizer, calculating the Dot Product will directly give us the Cosine Similarity Score. "
   ]
  },
  {
   "cell_type": "code",
   "execution_count": 71,
   "metadata": {},
   "outputs": [],
   "source": [
    "#The next step is to write a function that returns the 5 most similar events based on the cosine similarity score.\n",
    "\n",
    "event_name = events_df_new['event_name']\n",
    "indices = pd.Series(events_df_new.index, index=events_df_new['event_name'])\n",
    "\n",
    "from sklearn.metrics.pairwise import cosine_similarity\n",
    "def events_recommendations(r):\n",
    "    idx = indices[r]\n",
    "    cos = cosine_similarity(U[idx:int(idx)+1], U)\n",
    "    sim_scores = list(enumerate(cos.ravel()))\n",
    "    sim_scores = sorted(sim_scores, key=lambda x: x[1], reverse=True)\n",
    "    sim_scores = sim_scores[1:6]\n",
    "    event_indices = [i[0] for i in sim_scores]\n",
    "    pd.set_option('display.max_colwidth', -1)\n",
    "    return events_df[['event_name','venue_street','venue_city', 'venue_state','venue_zip','event_description']].iloc[event_indices]"
   ]
  },
  {
   "cell_type": "code",
   "execution_count": 72,
   "metadata": {},
   "outputs": [
    {
     "data": {
      "text/html": [
       "<div>\n",
       "<style scoped>\n",
       "    .dataframe tbody tr th:only-of-type {\n",
       "        vertical-align: middle;\n",
       "    }\n",
       "\n",
       "    .dataframe tbody tr th {\n",
       "        vertical-align: top;\n",
       "    }\n",
       "\n",
       "    .dataframe thead th {\n",
       "        text-align: right;\n",
       "    }\n",
       "</style>\n",
       "<table border=\"1\" class=\"dataframe\">\n",
       "  <thead>\n",
       "    <tr style=\"text-align: right;\">\n",
       "      <th></th>\n",
       "      <th>event_name</th>\n",
       "      <th>venue_street</th>\n",
       "      <th>venue_city</th>\n",
       "      <th>venue_state</th>\n",
       "      <th>venue_zip</th>\n",
       "      <th>event_description</th>\n",
       "    </tr>\n",
       "  </thead>\n",
       "  <tbody>\n",
       "    <tr>\n",
       "      <th>39083</th>\n",
       "      <td>PPW LIVE IN SUMNER</td>\n",
       "      <td>10820 Pine St</td>\n",
       "      <td>Sumner</td>\n",
       "      <td>MI</td>\n",
       "      <td>48889</td>\n",
       "      <td>Family Friendly Wrestling in Sumner, MI featuring WWE Alumni and NBC American Ninja Warrior Zach Gowen!\\n</td>\n",
       "    </tr>\n",
       "    <tr>\n",
       "      <th>68582</th>\n",
       "      <td>PPW LIVE IN GRANT</td>\n",
       "      <td>105 S Front St</td>\n",
       "      <td>Grant</td>\n",
       "      <td>MI</td>\n",
       "      <td>49327</td>\n",
       "      <td>Family Friendly Wrestling comes to Grant, MI!\\n</td>\n",
       "    </tr>\n",
       "    <tr>\n",
       "      <th>54500</th>\n",
       "      <td>PPW LIVE IN FLUSHING</td>\n",
       "      <td>5380 W Pierson Rd</td>\n",
       "      <td>Flushing</td>\n",
       "      <td>MI</td>\n",
       "      <td>48433</td>\n",
       "      <td>PPW brings family friendly pro wrestling to Flushing, MI!\\n</td>\n",
       "    </tr>\n",
       "    <tr>\n",
       "      <th>32078</th>\n",
       "      <td>PPW LIVE IN UNIONVILLE</td>\n",
       "      <td>2960 Cass St</td>\n",
       "      <td>Unionville</td>\n",
       "      <td>MI</td>\n",
       "      <td>48767</td>\n",
       "      <td>Pure Pro Wrestling brings family friendly professional wrestling to Unionville! WWE Alumni Zach Gowen leads an all star cast of grapplers as they invade the squared circle.\\n</td>\n",
       "    </tr>\n",
       "    <tr>\n",
       "      <th>12191</th>\n",
       "      <td>PPW Live in Manistee</td>\n",
       "      <td>1211 28th St</td>\n",
       "      <td>Manistee</td>\n",
       "      <td>MI</td>\n",
       "      <td>49660</td>\n",
       "      <td>Pure Pro Wrestling Returns to Manistee VFW for another action packed night of family friendly pro wrestling! WWE Alumni Zach Gowen leads an all star cast of grapplers as they invade the squared circle\\n</td>\n",
       "    </tr>\n",
       "  </tbody>\n",
       "</table>\n",
       "</div>"
      ],
      "text/plain": [
       "                   event_name       venue_street  venue_city venue_state  \\\n",
       "39083  PPW LIVE IN SUMNER      10820 Pine St      Sumner      MI           \n",
       "68582  PPW LIVE IN GRANT       105 S Front St     Grant       MI           \n",
       "54500  PPW LIVE IN FLUSHING    5380 W Pierson Rd  Flushing    MI           \n",
       "32078  PPW LIVE IN UNIONVILLE  2960 Cass St       Unionville  MI           \n",
       "12191  PPW Live in Manistee    1211 28th St       Manistee    MI           \n",
       "\n",
       "      venue_zip  \\\n",
       "39083  48889      \n",
       "68582  49327      \n",
       "54500  48433      \n",
       "32078  48767      \n",
       "12191  49660      \n",
       "\n",
       "                                                                                                                                                                                                event_description  \n",
       "39083  Family Friendly Wrestling in Sumner, MI featuring WWE Alumni and NBC American Ninja Warrior Zach Gowen!\\n                                                                                                   \n",
       "68582  Family Friendly Wrestling comes to Grant, MI!\\n                                                                                                                                                             \n",
       "54500  PPW brings family friendly pro wrestling to Flushing, MI!\\n                                                                                                                                                 \n",
       "32078  Pure Pro Wrestling brings family friendly professional wrestling to Unionville! WWE Alumni Zach Gowen leads an all star cast of grapplers as they invade the squared circle.\\n                              \n",
       "12191  Pure Pro Wrestling Returns to Manistee VFW for another action packed night of family friendly pro wrestling! WWE Alumni Zach Gowen leads an all star cast of grapplers as they invade the squared circle\\n  "
      ]
     },
     "execution_count": 72,
     "metadata": {},
     "output_type": "execute_result"
    }
   ],
   "source": [
    "#Testing\n",
    "#pd.set_option('display.max_colwidth', -1)\n",
    "events_recommendations('PPW LIVE IN MUSKEGON')\n"
   ]
  }
 ],
 "metadata": {
  "kernelspec": {
   "display_name": "Python 3",
   "language": "python",
   "name": "python3"
  },
  "language_info": {
   "codemirror_mode": {
    "name": "ipython",
    "version": 3
   },
   "file_extension": ".py",
   "mimetype": "text/x-python",
   "name": "python",
   "nbconvert_exporter": "python",
   "pygments_lexer": "ipython3",
   "version": "3.7.0"
  }
 },
 "nbformat": 4,
 "nbformat_minor": 2
}
